{
  "cells": [
    {
      "cell_type": "code",
      "execution_count": null,
      "metadata": {
        "id": "TcC83OashlK9"
      },
      "outputs": [],
      "source": [
        "#\tViết một hàm với input đầu vào là dãy số ngẫu nhiên và output đầu ra là giá trị lớn nhất trong dãy số đó."
      ]
    },
    {
      "cell_type": "code",
      "execution_count": null,
      "metadata": {
        "id": "fkBBUDBfXqZT"
      },
      "outputs": [],
      "source": [
        "import random"
      ]
    },
    {
      "cell_type": "code",
      "execution_count": null,
      "metadata": {
        "colab": {
          "base_uri": "https://localhost:8080/"
        },
        "id": "ODiK9C4pa1tK",
        "outputId": "99c3917d-d6b5-4be4-c39b-051a2ebcec56"
      },
      "outputs": [
        {
          "name": "stdout",
          "output_type": "stream",
          "text": [
            "Nhap vao so luong phan tu ma ban mong muon\n",
            "10\n"
          ]
        }
      ],
      "source": [
        "print('Nhap vao so luong phan tu ma ban mong muon: ')\n",
        "length = int(input())"
      ]
    },
    {
      "cell_type": "code",
      "execution_count": null,
      "metadata": {
        "colab": {
          "base_uri": "https://localhost:8080/"
        },
        "id": "WgJEYGhldAv_",
        "outputId": "918baa4a-0d3d-4e27-bcc8-9cde9989e308"
      },
      "outputs": [
        {
          "name": "stdout",
          "output_type": "stream",
          "text": [
            "[73, 62, 4, 56, 22, 13, 14, 1, 30, 12]\n"
          ]
        }
      ],
      "source": [
        "list = random.sample(range(100), k = length)\n",
        "print(list)"
      ]
    },
    {
      "cell_type": "code",
      "execution_count": null,
      "metadata": {
        "id": "neD0qcIzh7Hr"
      },
      "outputs": [],
      "source": [
        "def MaxList(list):\n",
        "  max = list[0]\n",
        "  for i in range(length):\n",
        "    if max < list[i]:\n",
        "      max = list[i]\n",
        "  return max"
      ]
    },
    {
      "cell_type": "code",
      "execution_count": null,
      "metadata": {
        "colab": {
          "base_uri": "https://localhost:8080/"
        },
        "id": "Eaas11Ujpdsk",
        "outputId": "cab442fb-597c-442f-8711-308c18a32675"
      },
      "outputs": [
        {
          "data": {
            "text/plain": [
              "73"
            ]
          },
          "execution_count": 19,
          "metadata": {},
          "output_type": "execute_result"
        }
      ],
      "source": [
        "MaxList(list)"
      ]
    },
    {
      "cell_type": "markdown",
      "metadata": {
        "id": "xLZmsWuep5Da"
      },
      "source": [
        "\n",
        "\n",
        "---\n",
        "\n"
      ]
    },
    {
      "cell_type": "code",
      "execution_count": null,
      "metadata": {
        "id": "40D6hrVJp3Gy"
      },
      "outputs": [],
      "source": [
        "#\tViết một hàm với input đầu vào là dãy số ngẫu nhiên và output đầu ra là giá trị lớn thứ nhì trong dãy số đó."
      ]
    },
    {
      "cell_type": "code",
      "execution_count": 25,
      "metadata": {
        "id": "-mCfKgriqBtw"
      },
      "outputs": [],
      "source": [
        "import random"
      ]
    },
    {
      "cell_type": "code",
      "execution_count": 26,
      "metadata": {
        "colab": {
          "base_uri": "https://localhost:8080/"
        },
        "id": "FblrWWDpqGhu",
        "outputId": "6de19945-9952-4cfd-dad3-ff4678e82e7d"
      },
      "outputs": [
        {
          "name": "stdout",
          "output_type": "stream",
          "text": [
            "Nhap vao so luong phan tu ma ban mong muon\n",
            "5\n"
          ]
        }
      ],
      "source": [
        "print('Nhap vao so luong phan tu ma ban mong muon:')\n",
        "length = int(input())"
      ]
    },
    {
      "cell_type": "code",
      "execution_count": 30,
      "metadata": {
        "colab": {
          "base_uri": "https://localhost:8080/"
        },
        "id": "xcRgvwgsqH8T",
        "outputId": "ff2adac0-e766-4f78-ae20-cceb1a5b4d90"
      },
      "outputs": [
        {
          "name": "stdout",
          "output_type": "stream",
          "text": [
            "[25, 13, 55, 9, 58]\n"
          ]
        }
      ],
      "source": [
        "list = random.sample(range(100), k = length)\n",
        "print(list)"
      ]
    },
    {
      "cell_type": "code",
      "execution_count": 31,
      "metadata": {
        "id": "16SycEGXqLOZ"
      },
      "outputs": [],
      "source": [
        "def SecondMaxList(list):\n",
        "  max = list[0]\n",
        "  for i in range(length):\n",
        "    if max < list[i]:\n",
        "      max = list[i]\n",
        "  list.remove(max)\n",
        "  result = list[0]\n",
        "  for i in range(len(list)):\n",
        "    if result < list[i]:\n",
        "      result = list[i]\n",
        "  return result"
      ]
    },
    {
      "cell_type": "code",
      "execution_count": 32,
      "metadata": {
        "colab": {
          "base_uri": "https://localhost:8080/"
        },
        "id": "mzTukrAUruqk",
        "outputId": "bdf19ad9-4d5f-4217-b0ac-ac41e47eb145"
      },
      "outputs": [
        {
          "data": {
            "text/plain": [
              "55"
            ]
          },
          "execution_count": 32,
          "metadata": {},
          "output_type": "execute_result"
        }
      ],
      "source": [
        "SecondMaxList(list)"
      ]
    },
    {
      "cell_type": "markdown",
      "metadata": {
        "id": "T3T49YkDsHjM"
      },
      "source": [
        "\n",
        "\n",
        "---\n",
        "\n"
      ]
    },
    {
      "cell_type": "code",
      "execution_count": null,
      "metadata": {
        "id": "Chbv7EqBsIbV"
      },
      "outputs": [],
      "source": [
        "# Viết chương trình phân tích số nguyên n thành các thừa số nguyên tố trong Python. Ví dụ: 100 = 2 x 2 x 5 x 5. Số nguyên dương n được nhập từ bàn phím."
      ]
    },
    {
      "cell_type": "code",
      "execution_count": 41,
      "metadata": {
        "colab": {
          "base_uri": "https://localhost:8080/"
        },
        "id": "nb4afaiusZ-j",
        "outputId": "f105849d-5a84-4782-a7b1-ddc0704a18c4"
      },
      "outputs": [
        {
          "name": "stdout",
          "output_type": "stream",
          "text": [
            "Nhap vao so nguyen duong: \n",
            "562\n"
          ]
        }
      ],
      "source": [
        "print('Nhap vao so nguyen duong: ')\n",
        "number = int(input())"
      ]
    },
    {
      "cell_type": "code",
      "execution_count": 42,
      "metadata": {
        "id": "1Vm0Mykas2Xy"
      },
      "outputs": [],
      "source": [
        "def PhanTich(number):\n",
        "  i = 2\n",
        "  listNumbers = []\n",
        "  while (number > 1):\n",
        "    if (number % i == 0):\n",
        "      number = int(number / i)\n",
        "      listNumbers.append(i)\n",
        "    else:\n",
        "      i = i + 1\n",
        "      if (len(listNumbers) == 0):\n",
        "        listNumbers.append(number)\n",
        "  return listNumbers"
      ]
    },
    {
      "cell_type": "code",
      "execution_count": 43,
      "metadata": {
        "colab": {
          "base_uri": "https://localhost:8080/"
        },
        "id": "5D-aEa_nvKTI",
        "outputId": "2960d397-c862-4b1c-96dd-3e7c050fc069"
      },
      "outputs": [
        {
          "name": "stdout",
          "output_type": "stream",
          "text": [
            "562 = 2 x 281\n"
          ]
        }
      ],
      "source": [
        "listNumbers = PhanTich(number)\n",
        "size = len(listNumbers)\n",
        "result = \"\"\n",
        "for i in range(0, size - 1):\n",
        "    result = result + str(listNumbers[i]) + \" x \"\n",
        "result = result + str(listNumbers[size-1])\n",
        "print(number, \"=\", result)"
      ]
    },
    {
      "cell_type": "markdown",
      "metadata": {
        "id": "mjPbzqBZv-2H"
      },
      "source": [
        "\n",
        "\n",
        "---\n",
        "\n"
      ]
    },
    {
      "cell_type": "code",
      "execution_count": null,
      "metadata": {
        "id": "f5AUhnO1v_kZ"
      },
      "outputs": [],
      "source": [
        "# Viết một chương trình với input đầu vào là thời gian (giờ và phút), output đầu ra là số đo góc của kim giờ và kim phút trên đồng hồ kim."
      ]
    },
    {
      "cell_type": "code",
      "execution_count": 48,
      "metadata": {
        "colab": {
          "base_uri": "https://localhost:8080/"
        },
        "id": "rBxUeXKFzh56",
        "outputId": "066de9ce-fae9-47fa-83ba-ee1ed320eb79"
      },
      "outputs": [
        {
          "name": "stdout",
          "output_type": "stream",
          "text": [
            "Nhap vao so gio: \n",
            "12\n",
            "Nhap vao so phut: \n",
            "30\n"
          ]
        }
      ],
      "source": [
        "print('Nhap vao so gio: ')\n",
        "hour = int(input())\n",
        "print('Nhap vao so phut: ')\n",
        "minute = int(input())"
      ]
    },
    {
      "cell_type": "code",
      "execution_count": 49,
      "metadata": {
        "id": "CSixCacFwY81"
      },
      "outputs": [],
      "source": [
        "def SoDoGoc(hour, minute):\n",
        "  hour_angle = (hour * 360) / 12\n",
        "  min_angle = (minute * 360) / 60\n",
        "  if (hour_angle > min_angle):\n",
        "    result = hour_angle - min_angle\n",
        "  else:\n",
        "    result = min_angle - hour_angle\n",
        "  return result"
      ]
    },
    {
      "cell_type": "code",
      "execution_count": 50,
      "metadata": {
        "colab": {
          "base_uri": "https://localhost:8080/"
        },
        "id": "4l5uYPlazgrR",
        "outputId": "ea85d9b2-a670-47a6-f1c1-aaa44c96c640"
      },
      "outputs": [
        {
          "name": "stdout",
          "output_type": "stream",
          "text": [
            "180.0\n"
          ]
        }
      ],
      "source": [
        "result = SoDoGoc(hour, minute)\n",
        "print(result)"
      ]
    }
  ],
  "metadata": {
    "colab": {
      "collapsed_sections": [],
      "name": "PythonCode",
      "provenance": []
    },
    "kernelspec": {
      "display_name": "Python 3",
      "name": "python3"
    },
    "language_info": {
      "name": "python"
    }
  },
  "nbformat": 4,
  "nbformat_minor": 0
}
