{
  "nbformat": 4,
  "nbformat_minor": 0,
  "metadata": {
    "colab": {
      "name": "PythonCode",
      "provenance": [],
      "collapsed_sections": []
    },
    "kernelspec": {
      "name": "python3",
      "display_name": "Python 3"
    },
    "language_info": {
      "name": "python"
    }
  },
  "cells": [
    {
      "cell_type": "code",
      "source": [
        "#\tViết một hàm với input đầu vào là dãy số ngẫu nhiên và output đầu ra là giá trị lớn nhất trong dãy số đó."
      ],
      "metadata": {
        "id": "TcC83OashlK9"
      },
      "execution_count": null,
      "outputs": []
    },
    {
      "cell_type": "code",
      "execution_count": null,
      "metadata": {
        "id": "fkBBUDBfXqZT"
      },
      "outputs": [],
      "source": [
        "import random"
      ]
    },
    {
      "cell_type": "code",
      "source": [
        "print('Nhap vao so luong phan tu ma ban mong muon: ')\n",
        "length = int(input())"
      ],
      "metadata": {
        "colab": {
          "base_uri": "https://localhost:8080/"
        },
        "id": "ODiK9C4pa1tK",
        "outputId": "99c3917d-d6b5-4be4-c39b-051a2ebcec56"
      },
      "execution_count": null,
      "outputs": [
        {
          "name": "stdout",
          "output_type": "stream",
          "text": [
            "Nhap vao so luong phan tu ma ban mong muon\n",
            "10\n"
          ]
        }
      ]
    },
    {
      "cell_type": "code",
      "source": [
        "list = random.sample(range(100), k = length)\n",
        "print(list)"
      ],
      "metadata": {
        "colab": {
          "base_uri": "https://localhost:8080/"
        },
        "id": "WgJEYGhldAv_",
        "outputId": "918baa4a-0d3d-4e27-bcc8-9cde9989e308"
      },
      "execution_count": null,
      "outputs": [
        {
          "output_type": "stream",
          "name": "stdout",
          "text": [
            "[73, 62, 4, 56, 22, 13, 14, 1, 30, 12]\n"
          ]
        }
      ]
    },
    {
      "cell_type": "code",
      "source": [
        "def MaxList(list):\n",
        "  max = list[0]\n",
        "  for i in range(length):\n",
        "    if max < list[i]:\n",
        "      max = list[i]\n",
        "  return max"
      ],
      "metadata": {
        "id": "neD0qcIzh7Hr"
      },
      "execution_count": null,
      "outputs": []
    },
    {
      "cell_type": "code",
      "source": [
        "MaxList(list)"
      ],
      "metadata": {
        "colab": {
          "base_uri": "https://localhost:8080/"
        },
        "id": "Eaas11Ujpdsk",
        "outputId": "cab442fb-597c-442f-8711-308c18a32675"
      },
      "execution_count": null,
      "outputs": [
        {
          "output_type": "execute_result",
          "data": {
            "text/plain": [
              "73"
            ]
          },
          "metadata": {},
          "execution_count": 19
        }
      ]
    },
    {
      "cell_type": "markdown",
      "source": [
        "\n",
        "\n",
        "---\n",
        "\n"
      ],
      "metadata": {
        "id": "xLZmsWuep5Da"
      }
    },
    {
      "cell_type": "code",
      "source": [
        "#\tViết một hàm với input đầu vào là dãy số ngẫu nhiên và output đầu ra là giá trị lớn thứ nhì trong dãy số đó."
      ],
      "metadata": {
        "id": "40D6hrVJp3Gy"
      },
      "execution_count": null,
      "outputs": []
    },
    {
      "cell_type": "code",
      "source": [
        "import random"
      ],
      "metadata": {
        "id": "-mCfKgriqBtw"
      },
      "execution_count": 25,
      "outputs": []
    },
    {
      "cell_type": "code",
      "source": [
        "print('Nhap vao so luong phan tu ma ban mong muon:')\n",
        "length = int(input())"
      ],
      "metadata": {
        "id": "FblrWWDpqGhu",
        "colab": {
          "base_uri": "https://localhost:8080/"
        },
        "outputId": "6de19945-9952-4cfd-dad3-ff4678e82e7d"
      },
      "execution_count": 26,
      "outputs": [
        {
          "name": "stdout",
          "output_type": "stream",
          "text": [
            "Nhap vao so luong phan tu ma ban mong muon\n",
            "5\n"
          ]
        }
      ]
    },
    {
      "cell_type": "code",
      "source": [
        "list = random.sample(range(100), k = length)\n",
        "print(list)"
      ],
      "metadata": {
        "id": "xcRgvwgsqH8T",
        "colab": {
          "base_uri": "https://localhost:8080/"
        },
        "outputId": "ff2adac0-e766-4f78-ae20-cceb1a5b4d90"
      },
      "execution_count": 30,
      "outputs": [
        {
          "output_type": "stream",
          "name": "stdout",
          "text": [
            "[25, 13, 55, 9, 58]\n"
          ]
        }
      ]
    },
    {
      "cell_type": "code",
      "source": [
        "def SecondMaxList(list):\n",
        "  max = list[0]\n",
        "  for i in range(length):\n",
        "    if max < list[i]:\n",
        "      max = list[i]\n",
        "  list.remove(max)\n",
        "  result = list[0]\n",
        "  for i in range(len(list)):\n",
        "    if result < list[i]:\n",
        "      result = list[i]\n",
        "  return result"
      ],
      "metadata": {
        "id": "16SycEGXqLOZ"
      },
      "execution_count": 31,
      "outputs": []
    },
    {
      "cell_type": "code",
      "source": [
        "SecondMaxList(list)"
      ],
      "metadata": {
        "colab": {
          "base_uri": "https://localhost:8080/"
        },
        "id": "mzTukrAUruqk",
        "outputId": "bdf19ad9-4d5f-4217-b0ac-ac41e47eb145"
      },
      "execution_count": 32,
      "outputs": [
        {
          "output_type": "execute_result",
          "data": {
            "text/plain": [
              "55"
            ]
          },
          "metadata": {},
          "execution_count": 32
        }
      ]
    },
    {
      "cell_type": "markdown",
      "source": [
        "\n",
        "\n",
        "---\n",
        "\n"
      ],
      "metadata": {
        "id": "T3T49YkDsHjM"
      }
    },
    {
      "cell_type": "code",
      "source": [
        "# Viết chương trình phân tích số nguyên n thành các thừa số nguyên tố trong Python. Ví dụ: 100 = 2 x 2 x 5 x 5. Số nguyên dương n được nhập từ bàn phím."
      ],
      "metadata": {
        "id": "Chbv7EqBsIbV"
      },
      "execution_count": null,
      "outputs": []
    },
    {
      "cell_type": "code",
      "source": [
        "print('Nhap vao so nguyen duong: ')\n",
        "number = int(input())"
      ],
      "metadata": {
        "colab": {
          "base_uri": "https://localhost:8080/"
        },
        "id": "nb4afaiusZ-j",
        "outputId": "f105849d-5a84-4782-a7b1-ddc0704a18c4"
      },
      "execution_count": 41,
      "outputs": [
        {
          "name": "stdout",
          "output_type": "stream",
          "text": [
            "Nhap vao so nguyen duong: \n",
            "562\n"
          ]
        }
      ]
    },
    {
      "cell_type": "code",
      "source": [
        "def PhanTich(number):\n",
        "  i = 2;\n",
        "  listNumbers = [];\n",
        "  while (number > 1):\n",
        "    if (number % i == 0):\n",
        "      number = int(number / i);\n",
        "      listNumbers.append(i);\n",
        "    else:\n",
        "      i = i + 1;\n",
        "      if (len(listNumbers) == 0):\n",
        "        listNumbers.append(number);\n",
        "  return listNumbers;"
      ],
      "metadata": {
        "id": "1Vm0Mykas2Xy"
      },
      "execution_count": 42,
      "outputs": []
    },
    {
      "cell_type": "code",
      "source": [
        "listNumbers = PhanTich(number);\n",
        "size = len(listNumbers);\n",
        "result = \"\";\n",
        "for i in range(0, size - 1):\n",
        "    result = result + str(listNumbers[i]) + \" x \";\n",
        "result = result + str(listNumbers[size-1]);\n",
        "print(number, \"=\", result);"
      ],
      "metadata": {
        "colab": {
          "base_uri": "https://localhost:8080/"
        },
        "id": "5D-aEa_nvKTI",
        "outputId": "2960d397-c862-4b1c-96dd-3e7c050fc069"
      },
      "execution_count": 43,
      "outputs": [
        {
          "output_type": "stream",
          "name": "stdout",
          "text": [
            "562 = 2 x 281\n"
          ]
        }
      ]
    },
    {
      "cell_type": "markdown",
      "source": [
        "\n",
        "\n",
        "---\n",
        "\n"
      ],
      "metadata": {
        "id": "mjPbzqBZv-2H"
      }
    },
    {
      "cell_type": "code",
      "source": [
        "# Viết một chương trình với input đầu vào là thời gian (giờ và phút), output đầu ra là số đo góc của kim giờ và kim phút trên đồng hồ kim."
      ],
      "metadata": {
        "id": "f5AUhnO1v_kZ"
      },
      "execution_count": null,
      "outputs": []
    },
    {
      "cell_type": "code",
      "source": [
        "print('Nhap vao so gio: ')\n",
        "hour = int(input())\n",
        "print('Nhap vao so phut: ')\n",
        "minute = int(input())"
      ],
      "metadata": {
        "colab": {
          "base_uri": "https://localhost:8080/"
        },
        "id": "rBxUeXKFzh56",
        "outputId": "066de9ce-fae9-47fa-83ba-ee1ed320eb79"
      },
      "execution_count": 48,
      "outputs": [
        {
          "name": "stdout",
          "output_type": "stream",
          "text": [
            "Nhap vao so gio: \n",
            "12\n",
            "Nhap vao so phut: \n",
            "30\n"
          ]
        }
      ]
    },
    {
      "cell_type": "code",
      "source": [
        "def SoDoGoc(hour, minute):\n",
        "  hour_angle = (hour * 360) / 12\n",
        "  min_angle = (minute * 360) / 60\n",
        "  if (hour_angle > min_angle):\n",
        "    result = hour_angle - min_angle\n",
        "  else:\n",
        "    result = min_angle - hour_angle\n",
        "  return result"
      ],
      "metadata": {
        "id": "CSixCacFwY81"
      },
      "execution_count": 49,
      "outputs": []
    },
    {
      "cell_type": "code",
      "source": [
        "result = SoDoGoc(hour, minute)\n",
        "print(result)"
      ],
      "metadata": {
        "colab": {
          "base_uri": "https://localhost:8080/"
        },
        "id": "4l5uYPlazgrR",
        "outputId": "ea85d9b2-a670-47a6-f1c1-aaa44c96c640"
      },
      "execution_count": 50,
      "outputs": [
        {
          "output_type": "stream",
          "name": "stdout",
          "text": [
            "180.0\n"
          ]
        }
      ]
    }
  ]
}